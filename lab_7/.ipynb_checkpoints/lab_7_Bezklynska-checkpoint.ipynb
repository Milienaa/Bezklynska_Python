{
 "cells": [
  {
   "cell_type": "markdown",
   "metadata": {},
   "source": [
    "---\n",
    "title: 'Лабораторна робота №7. Словники, кортежі. Обробка винятків (empty)'\n",
    "description:\n",
    "   Документ зроблено за допомогою [Quarto](https://quarto.org/)\n",
    "author: \"&copy; [<span style='color: blue;'>Bezklynska Miliena </span>](https://github.com/Milienaa), 2024\"\n",
    "date: \"11.21.2024\"\n",
    "lang: ukr\n",
    "format:\n",
    "  html:\n",
    "    code-fold: true\n",
    "    toc: true # меню\n",
    "    toc_float: # спливаюче меню  \n",
    "      collapsed: true # авто\n",
    "      number_sections: true\n",
    "jupyter: python3\n",
    "---"
   ]
  },
  {
   "cell_type": "markdown",
   "metadata": {},
   "source": [
    "__Мета:__ _навчитися працювати зі структурами даних Кортеж та Словник. Навчитись обробляти основні типи винятків_"
   ]
  },
  {
   "cell_type": "markdown",
   "metadata": {
    "tags": []
   },
   "source": [
    "## Що ви будете вміти?\n",
    "* створювати та обробляти кортежі (`tuple`).\n",
    "* створювати і обробляти словники (`dict`).\n",
    "* сумісно викростовувати словники і кортежі\n",
    "* обробляти основні типи винятків."
   ]
  },
  {
   "cell_type": "markdown",
   "metadata": {},
   "source": [
    "### Завдання 1"
   ]
  },
  {
   "cell_type": "markdown",
   "metadata": {},
   "source": [
    "Напишіть програму, яка створює кортеж зі списку чисел, а потім виводить на екран всі числа, які менші за задане число `n`. Умова: користувач вводить число `n`, і   щоб створити новий список `result`, який містить всі числа з кортежу, які менші за `n`, реалізувати за допомогою генератора списків."
   ]
  },
  {
   "cell_type": "code",
   "execution_count": 4,
   "metadata": {},
   "outputs": [
    {
     "name": "stdout",
     "output_type": "stream",
     "text": [
      "(9, 12, 1, 5, 35, 19, 46, 13, 21)\n",
      "Введіть число: 15\n",
      "Числа з кортежу, менші за 15 : [9, 12, 1, 5, 13]\n"
     ]
    }
   ],
   "source": [
    "num = (9, 12, 1, 5, 35, 19, 46, 13, 21)\n",
    "print(num)\n",
    "n = int(input(\"Введіть число: \"))\n",
    "\n",
    "result = [numbers for numbers in num if numbers < n]\n",
    "print(\"Числа з кортежу, менші за\", n, \":\", result)"
   ]
  },
  {
   "cell_type": "markdown",
   "metadata": {},
   "source": [
    "### Завдання 2\n",
    "Напишіть програму, яка створює кортеж з трьох елементів, які є рядками, та з'єднує їх в один рядок з комою як роздільником. Примітка: з'єднати рядки також можна за допомогою методу `.join()`"
   ]
  },
  {
   "cell_type": "code",
   "execution_count": 5,
   "metadata": {},
   "outputs": [
    {
     "name": "stdout",
     "output_type": "stream",
     "text": [
      "('one', 'two', 'three', 'four')\n",
      "one, two, three, four\n"
     ]
    }
   ],
   "source": [
    "words = (\"one\", \"two\", \"three\", \"four\")\n",
    "print(words)\n",
    "result = \", \".join(words)\n",
    "print(result)"
   ]
  },
  {
   "cell_type": "markdown",
   "metadata": {},
   "source": [
    "### Завдання 3 "
   ]
  },
  {
   "cell_type": "markdown",
   "metadata": {},
   "source": [
    "Створіть словник, який містить інформацію про книги в бібліотеці. Ключами будуть назви книг, а значеннями - автори, рік видання та кількість сторінок. Виведіть на екран інформацію про книгу, введену користувачем."
   ]
  },
  {
   "cell_type": "code",
   "execution_count": 6,
   "metadata": {},
   "outputs": [
    {
     "name": "stdout",
     "output_type": "stream",
     "text": [
      "Enter the name of the book: Twilight\n",
      "Twilight\n",
      "Author: Stephenie Meyer\n",
      "Year: 2005\n",
      "Pages: 498\n"
     ]
    }
   ],
   "source": [
    "library = {\n",
    "    \"The Fault in Our Stars\": (\"John Michael Green\", 2012, 313),\n",
    "    \"Me Before You\": (\"Jojo Moyes\", 2012, 369), \n",
    "    \"The Notebook\": (\"Nicholas Sparks\", 1996, 214), \n",
    "    \"Twilight\": (\"Stephenie Meyer\", 2005, 498)\n",
    "}\n",
    "\n",
    "book_name = input(\"Enter the name of the book: \")\n",
    "print(book_name)\n",
    "\n",
    "if book_name in library:\n",
    "    author, year, pages = library[book_name]\n",
    "    print(f\"Author: {author}\")\n",
    "    print(f\"Year: {year}\")\n",
    "    print(f\"Pages: {pages}\")\n",
    "else:\n",
    "    print(\"Sorry, this book is not available in the library.\")"
   ]
  },
  {
   "cell_type": "markdown",
   "metadata": {},
   "source": [
    "### Завдання 4"
   ]
  },
  {
   "cell_type": "markdown",
   "metadata": {},
   "source": [
    "Напишіть програму, яка створює словник, що містить інформацію про студентів, використовуючи вказані кортежі в якості значень. Кожен ключ -- це прізвище студента. Виведіть на екран інформацію про студента, введеного користувачем."
   ]
  },
  {
   "cell_type": "code",
   "execution_count": 2,
   "metadata": {},
   "outputs": [
    {
     "name": "stdout",
     "output_type": "stream",
     "text": [
      "Enter the student's surname: Dream\n",
      "Name: Lileya\n",
      "Age: 19\n",
      "Faculty: Art History\n"
     ]
    }
   ],
   "source": [
    "students = {\n",
    "    \"Rose\": (\"Emily\", 20, \"Literature\"),\n",
    "    \"Storm\": (\"Lilith\", 22, \"Astronomy\"),\n",
    "    \"Dream\": (\"Lileya\", 19, \"Art History\"),\n",
    "    \"Moon\": (\"Astra\", 21, \"Philosophy\"),\n",
    "    \"Nova\": (\"Selena\", 23, \"Physics\")\n",
    "}\n",
    "\n",
    "surname = input(\"Enter the student's surname: \")\n",
    "\n",
    "if surname in students:\n",
    "    name, age, faculty = students[surname]\n",
    "    print(f\"Name: {name}\\nAge: {age}\\nFaculty: {faculty}\")\n",
    "else:\n",
    "    print(\"No student found with that nickname!\")"
   ]
  },
  {
   "cell_type": "markdown",
   "metadata": {},
   "source": [
    "### Завдання 5"
   ]
  },
  {
   "cell_type": "markdown",
   "metadata": {},
   "source": [
    "Створіть словник, який містить інформацію про більше, ніж один номер телефону для кожного з контактів в телефонній книзі. Ключами будуть імена контактів, а значеннями - список їхніх номерів телефонів. Напишіть функцію, яка дозволяє додати новий номер телефону до списку номерів телефону певного контакту. Потім виведіть на екран список номерів телефонів для всіх контактів."
   ]
  },
  {
   "cell_type": "code",
   "execution_count": 3,
   "metadata": {},
   "outputs": [
    {
     "name": "stdout",
     "output_type": "stream",
     "text": [
      "Ivan: 098-123-45-67, 096-987-65-43\n",
      "Olena: 063-555-66-77\n",
      "Mykola: 098-222-33-44, 096-333-44-55\n",
      "Kateryna: 063-444-55-66\n"
     ]
    }
   ],
   "source": [
    "phonebook = {\n",
    "    \"Ivan\": (\"098-123-45-67\", \"096-987-65-43\"),\n",
    "    \"Olena\": (\"063-555-66-77\",),\n",
    "    \"Mykola\": (\"098-222-33-44\", \"096-333-44-55\")\n",
    "}\n",
    "\n",
    "def add_phone_number(contact_name, new_number):\n",
    "    if contact_name in phonebook:\n",
    "        phonebook[contact_name] = phonebook[contact_name] + (new_number,)\n",
    "    else:\n",
    "        phonebook[contact_name] = (new_number,)\n",
    "\n",
    "add_phone_number(\"Kateryna\", \"063-444-55-66\")\n",
    "\n",
    "for contact, numbers in phonebook.items():\n",
    "    print(f\"{contact}: {', '.join(numbers)}\")"
   ]
  },
  {
   "cell_type": "markdown",
   "metadata": {},
   "source": [
    "## Завдання для самостіної роботи\n",
    "\n",
    "1. Виконано завдання 1-5 наведені вище у цьому зошиті.\n",
    "\n",
    "1. Створено файл __lab_7_Bezklynska.py__ з написаним кодом. \n",
    "\n",
    "1. Закомічено файл у локальний репозиторій.\n",
    "\n",
    "1. Відправлено (\"запушити\") поточну версію Git-проєкта у віддалений репозиторій на GitHub.\n",
    "\n",
    "1. Звіт складається з файлу (за основу взяти __цей Python-зошит__)  `lab_7_Bezklynska.ipynb`."
   ]
  },
  {
   "cell_type": "markdown",
   "metadata": {},
   "source": [
    "## Контрольні запитання\n",
    "\n",
    "1. Що виведе наступний код?\n",
    "\n",
    "```\n",
    "my_tuple = (1, 2, 3)\n",
    "print(my_tuple[1:])\n",
    "```\n",
    "(2, 3)\n",
    "\n",
    "2. Що виведе наступний код?\n",
    "```\n",
    "my_dict = {'a': 1, 'b': 2, 'c': 3}\n",
    "print(my_dict.get('d', 4))\n",
    "```\n",
    "4\n",
    "\n",
    "3. Що виведе наступний код?\n",
    "```\n",
    "my_tuple = (1, 2, 3)\n",
    "my_tuple[0] = 4\n",
    "print(my_tuple)\n",
    "```\n",
    "Помилка: кортеж не підтримує операцію присвоєння по індексу\n",
    "\n",
    "4. Що виведе наступний код?\n",
    "```\n",
    "my_dict = {'a': 1, 'b': 2, 'c': 3}\n",
    "my_dict.update({'d': 4})\n",
    "print(my_dict)\n",
    "```\n",
    "{‘a’: 1, ‘b’: 2, ‘c’: 3, ‘d’: 4}\n"
   ]
  },
  {
   "cell_type": "markdown",
   "metadata": {},
   "source": [
    "## References"
   ]
  },
  {
   "cell_type": "markdown",
   "metadata": {},
   "source": [
    "1. [Anaconda (Python distribution)](https://uk.wikipedia.org/wiki/Anaconda_(Python_distribution))\n",
    "2. [Conda](https://conda.io/en/latest/)\n",
    "3. [Pro Git Book](https://git-scm.com/book/en/v2)\n",
    "4. [OpenEDG Python Institute](https://pythoninstitute.org/)\n",
    "5. [Cisco. Networking Academy](https://www.netacad.com/)\n",
    "6. [Научно-издательская система Quarto](https://data-visualization-blog.netlify.app/posts/quarto/)"
   ]
  }
 ],
 "metadata": {
  "kernelspec": {
   "display_name": "Python 3 (ipykernel)",
   "language": "python",
   "name": "python3"
  },
  "language_info": {
   "codemirror_mode": {
    "name": "ipython",
    "version": 3
   },
   "file_extension": ".py",
   "mimetype": "text/x-python",
   "name": "python",
   "nbconvert_exporter": "python",
   "pygments_lexer": "ipython3",
   "version": "3.11.3"
  }
 },
 "nbformat": 4,
 "nbformat_minor": 4
}
